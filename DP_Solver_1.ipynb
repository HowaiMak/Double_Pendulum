{
 "cells": [
  {
   "cell_type": "code",
   "execution_count": null,
   "id": "668b74f6-dbce-4072-a1cf-14e135bd7a64",
   "metadata": {},
   "outputs": [],
   "source": [
    "import numpy as np\n",
    "import matplotlib.pyplot as plt\n",
    "import scipy.constants as con\n",
    "\n",
    "# class holding initial conditions for arguments in\n",
    "class Initial_Conditions:\n",
    "    def __init__(init, arg1, arg2, arg3, arg4, arg5, arg6, arg7, arg8, arg9):\n",
    "        \"\"\"\n",
    "        Args: in numeric order specific for Double Pendulum\n",
    "            g: gravity\n",
    "            l1: length of upper pendulum in meter\n",
    "            l2: length of lower pendulum in meter\n",
    "            m1: attached mass on the upper pendulum in kg\n",
    "            m2: attached mass on the lower pendulum in kg\n",
    "            theta1: initial angular space of the upper pendulum theta1, at t = 0\n",
    "            theta2: initial angular space of the lower pendulum theta2, at t = 0\n",
    "            omega1: initial angular velocity of the upper pendulum theta1, at t = 0\n",
    "            omega2: initial angular velocity of the lower pendulum theta2, at t = 0\n",
    "        Return:\n",
    "            array of the above arguments\n",
    "        \"\"\"\n",
    "        init.arg1 = arg1\n",
    "        init.arg2 = arg2\n",
    "        init.arg3 = arg3\n",
    "        init.arg4 = arg4\n",
    "        init.arg5 = arg5\n",
    "        init.arg6 = arg6\n",
    "        init.arg7 = arg7\n",
    "        init.arg8 = arg8\n",
    "        init.arg9 = arg9\n",
    "\n",
    "#functions for calculating angular acceleration\n",
    "def alpha_1(g, l1, l2, m1, m2, th1, th2, om1, om2):\n",
    "    a1 = (-g*(2*m1 + m2)*np.sin(th1) - m2*g*np.sin(th1 - 2*th2) - 2*np.sin(th1 - th2)*m2*((om2**2)*l2 + (om1**2)*l1*np.cos(th1-th2)))/(l1*(2*m1 + m2 - m2*np.cos(2*th1 - 2*th2)))\n",
    "    return a1\n",
    "\n",
    "def alpha_2(g, l1, l2, m1, m2, th1, th2, om1, om2):\n",
    "    a2 = (2*np.sin(th1 - th2)*((om1**2)*l1*(m1 + m2) + g*(m1 + m2)*np.cos(th1) + (om2**2)*l2*m2*np.cos(th1 - th2)))/(l2*(2*m1 + m2 - m2*np.cos(2*th1 - 2*th2)))\n",
    "    return a2\n",
    "\n",
    "#runge kutta step forward function for a 2nd order ODE\n",
    "def rk4_step(con, kfunc1, kfunc2, step):\n",
    "    \"\"\"\n",
    "    Args:\n",
    "        con: array of arguments\n",
    "        kfunc1: first k-function\n",
    "        kfunc2: second k-fucntion\n",
    "        step: time-step\n",
    "    Return:\n",
    "        theta1: array of zeros ready to be store values of theta1\n",
    "        theta2: array of zeros ready to be store values of theta2\n",
    "        omega1: array of zeros ready to be store values of omega1\n",
    "        omega2: array of zeros ready to be store values of omega2\n",
    "    \"\"\"\n",
    "    #calculating k1 for all values\n",
    "    k1omega1 = step*kfunc1(con.arg1, con.arg2, con.arg3, con.arg4, con.arg5, con.arg6, con.arg7, con.arg8, con.arg9)\n",
    "    k1omega2 = step*kfunc2(con.arg1, con.arg2, con.arg3, con.arg4, con.arg5, con.arg6, con.arg7, con.arg8, con.arg9)\n",
    "    k1theta1 = step*con.arg8\n",
    "    k1theta2 = step*con.arg9\n",
    "    \n",
    "    #calculating k2 for all values\n",
    "    k2omega1 = step*kfunc1(con.arg1, con.arg2, con.arg3, con.arg4, con.arg5, con.arg6 + (k1theta1/2), con.arg7 + (k1theta2/2), con.arg8 + (k1omega1/2), con.arg9 + (k1omega2/2))\n",
    "    k2omega2 = step*kfunc2(con.arg1, con.arg2, con.arg3, con.arg4, con.arg5, con.arg6 + (k1theta1/2), con.arg7 + (k1theta2/2), con.arg8 + (k1omega1/2), con.arg9 + (k1omega2/2))\n",
    "    k2theta1 = step*(con.arg8 + (k1omega1/2))\n",
    "    k2theta2 = step*(con.arg8 + (k1omega2/2))\n",
    "    \n",
    "    #calculating k3 for all values\n",
    "    k3omega1 = step*kfunc1(con.arg1, con.arg2, con.arg3, con.arg4, con.arg5, con.arg6 + (k2theta1/2), con.arg7 + (k2theta2/2), con.arg8 + (k2omega1/2), con.arg9 + (k2omega2/2))\n",
    "    k3omega2 = step*kfunc2(con.arg1, con.arg2, con.arg3, con.arg4, con.arg5, con.arg6 + (k2theta1/2), con.arg7 + (k2theta2/2), con.arg8 + (k2omega1/2), con.arg9 + (k2omega2/2))\n",
    "    k3theta1 = step*(con.arg8 + (k2omega1/2))\n",
    "    k3theta2 = step*(con.arg8 + (k2omega2/2))\n",
    "    \n",
    "    #calculating k4 for all values\n",
    "    k4omega1 = step*kfunc1(con.arg1, con.arg2, con.arg3, con.arg4, con.arg5, con.arg6 + k3theta1, con.arg7 + k3theta2, con.arg8 + k3omega1, con.arg9 + k3omega2)\n",
    "    k4omega2 = step*kfunc2(con.arg1, con.arg2, con.arg3, con.arg4, con.arg5, con.arg6 + k3theta1, con.arg7 + k3theta2, con.arg8 + k3omega1, con.arg9 + k3omega2)\n",
    "    k4theta1 = step*(con.arg8 + k3omega1)\n",
    "    k4theta2 = step*(con.arg8 + k3omega2)\n",
    "    \n",
    "    # runge-kutta solutions for double pendulum \n",
    "    theta1 = con.arg6 + (k1theta1/6) + (k2theta1/3) + (k3theta1/3) + (k4theta1/6)\n",
    "    theta2 = con.arg7 + (k1theta2/6) + (k2theta2/3) + (k3theta2/3) + (k4theta2/6)\n",
    "    omega1 = con.arg8 + (k1omega1/6) + (k2omega1/3) + (k3omega1/3) + (k4omega1/6)\n",
    "    omega2 = con.arg9 + (k1omega2/6) + (k2omega2/3) + (k3omega2/3) + (k4omega2/6)\n",
    "                \n",
    "    return(theta1, theta2, omega1, omega2)\n",
    "\n",
    "def DP_Solver(con, t, step):\n",
    "    \"\"\"\n",
    "    Args:\n",
    "        con: array of arguments from class\n",
    "        t: end time for the simulation to run up to\n",
    "        step: time-step to be step forward each time\n",
    "    Return:\n",
    "        t: array of time using time-step \"step\"\n",
    "        theta1: initialised arrays with initial conditions ready to store in values of theta1\n",
    "        theta2: initialised arrays with initial conditions ready to store in values of theta2\n",
    "        omega1: initialised arrays with initial conditions ready to store in values of omega1\n",
    "        omega2: initialised arrays with initial conditions ready to store in values of omega2\n",
    "    \"\"\"\n",
    "    # Initialise the arrays to be used\n",
    "    # t is an array containing each of the timepoints that we will step forward h to\n",
    "    t = np.arange(0,t+(step),step)\n",
    "    # n is the number of timesteps in t\n",
    "    n = np.shape(t)[0]\n",
    "    \n",
    "    #initialising arrays which will store results\n",
    "    theta1 = np.zeros(n)\n",
    "    theta2 = np.zeros(n)\n",
    "    omega1 = np.zeros(n)\n",
    "    omega2 = np.zeros(n)\n",
    "    \n",
    "    #set initial conditions\n",
    "    theta1[0] = con.arg6\n",
    "    theta2[0] = con.arg7\n",
    "    omega1[0] = con.arg8\n",
    "    omega2[0] = con.arg9\n",
    "    \n",
    "    #for loop repeatedly steps forward in time using the 4th order runge kutta method\n",
    "    for i in range(1,n):\n",
    "        #class sets conditions for upcoming step\n",
    "        c = Initial_Conditions(con.arg1, con.arg2, con.arg3, con.arg4, con.arg5, theta1[i-1], theta2[i-1], omega1[i-1], omega2[i-1])\n",
    "        values = rk4_step(c, alpha_1, alpha_2, step)\n",
    "        theta1[i] = values[0]\n",
    "        theta2[i] = values[1]\n",
    "        omega1[i] = values[2]\n",
    "        omega2[i] = values[3]\n",
    "    \n",
    "    # keep the theta values between -pi to pi\n",
    "    for i in range(len(theta1)):\n",
    "        while theta1[i] > np.pi:\n",
    "            theta1[i] = theta1[i] - 2*np.pi \n",
    "        while theta1[i] < -np.pi:\n",
    "            theta1[i] = theta1[i] + 2*np.pi\n",
    "    \n",
    "    for j in range(len(theta2)):         \n",
    "        while theta2[j] > np.pi:\n",
    "            theta2[j] = theta2[j] - 2*np.pi \n",
    "        while theta2[j] < -np.pi:\n",
    "            theta2[j] = theta2[j] + 2*np.pi\n",
    "\n",
    "    return(t, theta1, theta2, omega1, omega2)\n",
    "    "
   ]
  },
  {
   "cell_type": "code",
   "execution_count": null,
   "id": "0a11c13f-1c4e-4a1d-b8bb-66dff806d211",
   "metadata": {},
   "outputs": [
    {
     "name": "stdout",
     "output_type": "stream",
     "text": [
      "[ 1.57079633  1.57030599  1.568835   ... -0.40568033 -0.39404573\n",
      " -0.38221683] [ 1.57079633  1.57079633  1.5699791  ... -0.53056294 -0.51719706\n",
      " -0.5036136 ]\n"
     ]
    }
   ],
   "source": [
    "# dummy reference to show choatic behaviour\n",
    "c1 = Initial_Conditions(con.g, 1, 1, 1, 1, np.pi/2, np.pi/2, 0, 0)\n",
    "\n",
    "x = DP_Solver(c1, 10, 0.01)\n",
    "\n",
    "print(x[1], x[2])"
   ]
  },
  {
   "cell_type": "code",
   "execution_count": null,
   "id": "559a9778-c3ff-485d-97d4-5c9997129188",
   "metadata": {},
   "outputs": [
    {
     "name": "stdout",
     "output_type": "stream",
     "text": [
      "[ 1.67079633  1.67031324  1.66886376 ... -0.48512916 -0.48319909\n",
      " -0.4807392 ] [ 1.57079633  1.57078668  1.56996894 ... -0.44772529 -0.44158967\n",
      " -0.43503769]\n"
     ]
    }
   ],
   "source": [
    "# change in theta1 (pi/2 to pi/2 + 0.1)\n",
    "c2 = Initial_Conditions(con.g, 1, 1, 1, 1, np.pi/2 + 0.1, np.pi/2, 0, 0)\n",
    "\n",
    "x = DP_Solver(c2, 10, 0.01)\n",
    "\n",
    "print(x[1], x[2])"
   ]
  },
  {
   "cell_type": "code",
   "execution_count": null,
   "id": "366740e3-7744-434a-9705-ee498b6e05af",
   "metadata": {},
   "outputs": [
    {
     "name": "stdout",
     "output_type": "stream",
     "text": [
      "[ 1.57079633  1.57030601  1.56883519 ... -0.4776705  -0.46427834\n",
      " -0.45073288] [ 1.67079633  1.6707963   1.66997884 ... -0.699697   -0.68538507\n",
      " -0.67085087]\n"
     ]
    }
   ],
   "source": [
    "# change in theta2 (pi/2 to pi/2 + 0.1)\n",
    "c3 = Initial_Conditions(con.g, 1, 1, 1, 1, np.pi/2, np.pi/2 + 0.1, 0, 0)\n",
    "\n",
    "x = DP_Solver(c3, 10, 0.01)\n",
    "\n",
    "print(x[1], x[2])"
   ]
  },
  {
   "cell_type": "code",
   "execution_count": null,
   "id": "041b133b-a95a-46f0-a640-94c22337fc67",
   "metadata": {},
   "outputs": [
    {
     "name": "stdout",
     "output_type": "stream",
     "text": [
      "[ 1.57079633  1.57179142  1.57277671 ... -0.62622638 -0.62543899\n",
      " -0.62464865] [ 1.57079633  1.57162966  1.57245482 ... -0.79965366 -0.79851754\n",
      " -0.79737826]\n"
     ]
    }
   ],
   "source": [
    "# change in omega1 (0 to 1)\n",
    "c4 = Initial_Conditions(con.g, 1, 1, 1, 1, np.pi/2, np.pi/2, 1, 0)\n",
    "\n",
    "x = DP_Solver(c4, 10, 0.001)\n",
    "\n",
    "print(x[1], x[2])"
   ]
  },
  {
   "cell_type": "code",
   "execution_count": null,
   "id": "8cbe116a-fb26-4f0e-aee9-196045c0b977",
   "metadata": {},
   "outputs": [
    {
     "name": "stdout",
     "output_type": "stream",
     "text": [
      "[ 1.57079633  1.57079142  1.57077671 ... -0.76351137 -0.760036\n",
      " -0.7565557 ] [ 1.57079633  1.57096299  1.57112149 ... -0.85519076 -0.85213413\n",
      " -0.84907278]\n"
     ]
    }
   ],
   "source": [
    "# change in omega2 (0 to 1)\n",
    "c5 = Initial_Conditions(con.g, 1, 1, 1, 1, np.pi/2, np.pi/2, 0, 1)\n",
    "\n",
    "x = DP_Solver(c5, 10, 0.001)\n",
    "\n",
    "print(x[1], x[2])"
   ]
  },
  {
   "cell_type": "code",
   "execution_count": null,
   "id": "39c8215a-0844-43a3-9707-d9c7773b0203",
   "metadata": {},
   "outputs": [
    {
     "name": "stdout",
     "output_type": "stream",
     "text": [
      "[ 3.14159265 -3.04159249 -2.94159135 ... -1.86306247 -1.7629436\n",
      " -1.66280982] [ 3.14159265 -3.04159265 -2.94159224 ... -1.86273292 -1.76266173\n",
      " -1.66257846]\n"
     ]
    }
   ],
   "source": [
    "# theta outside desired range test\n",
    "c6 = Initial_Conditions(con.g, 1, 1, 1, 1, np.pi, np.pi, 100, 100)\n",
    "\n",
    "x = DP_Solver(c6, 10, 0.001)\n",
    "\n",
    "print(x[1], x[2])"
   ]
  },
  {
   "cell_type": "code",
   "execution_count": null,
   "id": "07bd48b9-c809-4c63-839b-c1ef2587b685",
   "metadata": {},
   "outputs": [],
   "source": []
  }
 ],
 "metadata": {
  "kernelspec": {
   "display_name": "Default",
   "language": "python",
   "name": "python3"
  },
  "language_info": {
   "codemirror_mode": {
    "name": "ipython",
    "version": 3
   },
   "file_extension": ".py",
   "mimetype": "text/x-python",
   "name": "python",
   "nbconvert_exporter": "python",
   "pygments_lexer": "ipython3",
   "version": "3.8.13"
  }
 },
 "nbformat": 4,
 "nbformat_minor": 5
}
